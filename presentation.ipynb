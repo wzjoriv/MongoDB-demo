{
 "cells": [
  {
   "cell_type": "markdown",
   "metadata": {},
   "source": [
    "### Setup\n",
    "\n",
    "> Packages + Global variables"
   ]
  },
  {
   "cell_type": "code",
   "execution_count": null,
   "metadata": {},
   "outputs": [],
   "source": [
    "import requests\n",
    "import pymongo as mg\n",
    "import json, os\n",
    "\n",
    "host:str = \"mongodb://localhost:27017/\"\n",
    "data_save_folder = \"data/\"\n",
    "\n",
    "cats_api:str = \"https://api.thecatapi.com/v1/images/search?limit=30\"\n",
    "venue_api:str = \"https://opendata.arcgis.com/api/v3/datasets/1f538e9e89e642f1b077872933401d8d_0/downloads/data?format=geojson&spatialRefId=4326&where=1=1\""
   ]
  },
  {
   "cell_type": "markdown",
   "metadata": {},
   "source": [
    "> Useful Functions"
   ]
  },
  {
   "cell_type": "code",
   "execution_count": null,
   "metadata": {},
   "outputs": [],
   "source": [
    "def download_dataset(file_name:str, db_url: str) -> None:\n",
    "\n",
    "    response = requests.get(db_url)\n",
    "    with open(os.path.join(data_save_folder, file_name), \"wb\") as f:\n",
    "        f.write(response.content)\n",
    "\n",
    "def load_dataset(file_name:str):\n",
    "\n",
    "    with open(os.path.join(data_save_folder, \"cat_data.json\"), encoding='utf-8') as json_file:\n",
    "        fl_dt = json.load(json_file)\n",
    "        \n",
    "    return fl_dt"
   ]
  },
  {
   "cell_type": "markdown",
   "metadata": {},
   "source": [
    "---\n",
    "### MongoDB Client Connection"
   ]
  },
  {
   "cell_type": "code",
   "execution_count": null,
   "metadata": {},
   "outputs": [],
   "source": [
    "## Connect to Mongo \n",
    "\n",
    "\n",
    "## Create database\n"
   ]
  },
  {
   "cell_type": "markdown",
   "metadata": {},
   "source": [
    "---\n",
    "### Cats' Images Database\n",
    "\n",
    "#### Create dataset"
   ]
  },
  {
   "cell_type": "code",
   "execution_count": null,
   "metadata": {},
   "outputs": [],
   "source": [
    "## Download data\n",
    "\n",
    "\n",
    "## Create colelction\n",
    "\n",
    "\n",
    "## Add many data\n"
   ]
  },
  {
   "cell_type": "markdown",
   "metadata": {},
   "source": [
    "View data in MongoDB"
   ]
  },
  {
   "cell_type": "markdown",
   "metadata": {},
   "source": [
    "#### Query dataset (***In python & Mongosh***)\n",
    "\n",
    "Get images larger than 500px in height"
   ]
  },
  {
   "cell_type": "code",
   "execution_count": null,
   "metadata": {},
   "outputs": [],
   "source": []
  },
  {
   "cell_type": "markdown",
   "metadata": {},
   "source": [
    "Get images with widths greater than or equals to 450px and heights less than 600px"
   ]
  },
  {
   "cell_type": "code",
   "execution_count": null,
   "metadata": {},
   "outputs": [],
   "source": []
  },
  {
   "cell_type": "markdown",
   "metadata": {},
   "source": [
    "In mongosh:\n",
    "\n",
    "```\n",
    "use MyDB;\n",
    "```\n",
    "\n",
    "- Get images larger than 500px in height\n",
    "    ```\n",
    "        db.collection('CATS').find({height: {$gt: 400}}).project({ url: 1, _id: 0 })\n",
    "    ```\n",
    "- Get images with widths greater than or equals to 450px and heights less than 600px\n",
    "    ```\n",
    "        db.collection('CATS').find({width: {$gte: 450}, height: {$lt: 600}}).project({ url: 1, _id: 0 })\n",
    "    ```"
   ]
  },
  {
   "cell_type": "markdown",
   "metadata": {},
   "source": [
    "---\n",
    "### Venue Database\n",
    "\n",
    "#### Create dataset"
   ]
  },
  {
   "cell_type": "code",
   "execution_count": null,
   "metadata": {},
   "outputs": [],
   "source": [
    "## Download data\n",
    "\n",
    "\n",
    "## Create colelction\n",
    "\n",
    "\n",
    "## Add many data\n"
   ]
  },
  {
   "cell_type": "markdown",
   "metadata": {},
   "source": [
    "View data in MongoDB"
   ]
  },
  {
   "cell_type": "markdown",
   "metadata": {},
   "source": [
    "#### Query dataset (***In python & Mongosh***)\n",
    "\n",
    "Get all venues within 2 km from Purdue"
   ]
  },
  {
   "cell_type": "code",
   "execution_count": null,
   "metadata": {},
   "outputs": [],
   "source": []
  },
  {
   "cell_type": "markdown",
   "metadata": {},
   "source": [
    "Get all venues that can sits more the 5000 people"
   ]
  },
  {
   "cell_type": "code",
   "execution_count": null,
   "metadata": {},
   "outputs": [],
   "source": []
  },
  {
   "cell_type": "markdown",
   "metadata": {},
   "source": [
    "In mongosh:\n",
    "\n",
    "- Get all venues within 2 km from Purdue\n",
    "    ```\n",
    "        db.collection('VENUES').find({geometry: {$near: { $geometry:{type: 'Point', coordinates: [-86.9206582, 40.4236401]}, $maxDistance: 2000}}}).project({ NAME: 1, ADDRESS: 1, CITY: 1})\n",
    "    ```\n",
    "- Get all venues that can sits more the 5000 people\n",
    "    ```\n",
    "        db.collection('VENUES').find({STATE: 'IN', POPULATION: {$gt: 5000}}).project({ NAME: 1, ADDRESS: 1, CITY: 1, POPULATION: 1})\n",
    "    ```"
   ]
  }
 ],
 "metadata": {
  "language_info": {
   "name": "python"
  }
 },
 "nbformat": 4,
 "nbformat_minor": 2
}
