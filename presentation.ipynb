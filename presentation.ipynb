{
 "cells": [
  {
   "cell_type": "markdown",
   "metadata": {},
   "source": [
    "### Setup\n",
    "\n",
    "> Packages + Global variables"
   ]
  },
  {
   "cell_type": "code",
   "execution_count": null,
   "metadata": {},
   "outputs": [],
   "source": [
    "import requests\n",
    "import pymongo as mg\n",
    "import json, os\n",
    "\n",
    "host:str = \"mongodb://localhost:27017/\"\n",
    "data_save_folder:str = \"data/\"\n",
    "\n",
    "cats_api:str = \"https://api.thecatapi.com/v1/images/search?limit=30\"\n",
    "venue_api:str = \"https://opendata.arcgis.com/api/v3/datasets/1f538e9e89e642f1b077872933401d8d_0/downloads/data?format=geojson&spatialRefId=4326&where=1=1\""
   ]
  },
  {
   "cell_type": "markdown",
   "metadata": {},
   "source": [
    "> Useful Functions"
   ]
  },
  {
   "cell_type": "code",
   "execution_count": null,
   "metadata": {},
   "outputs": [],
   "source": [
    "def download_dataset(file_name:str, db_url: str) -> None:\n",
    "\n",
    "    response = requests.get(db_url)\n",
    "    with open(os.path.join(data_save_folder, file_name), \"wb\") as f:\n",
    "        f.write(response.content)\n",
    "\n",
    "def load_dataset(file_name:str):\n",
    "\n",
    "    with open(os.path.join(data_save_folder, file_name), encoding='utf-8') as json_file:\n",
    "        fl_dt = json.load(json_file)\n",
    "        \n",
    "    return fl_dt"
   ]
  },
  {
   "cell_type": "markdown",
   "metadata": {},
   "source": [
    "---\n",
    "### MongoDB Client Connection"
   ]
  },
  {
   "cell_type": "code",
   "execution_count": null,
   "metadata": {},
   "outputs": [],
   "source": [
    "## Connect to Mongo \n",
    "client = mg.MongoClient(host)\n",
    "\n",
    "## Create database\n",
    "database = client['MyDBs']"
   ]
  },
  {
   "cell_type": "markdown",
   "metadata": {},
   "source": [
    "---\n",
    "### Cats' Images Database\n",
    "\n",
    "#### Create dataset"
   ]
  },
  {
   "cell_type": "code",
   "execution_count": null,
   "metadata": {},
   "outputs": [],
   "source": [
    "## Download data\n",
    "file_name = \"cat_data.json\"\n",
    "download_dataset(file_name, cats_api)\n",
    "\n",
    "## Create colelction\n",
    "collection = database['CATS']\n",
    "cats_info = load_dataset(file_name)\n",
    "\n",
    "## Add many data\n",
    "collection.insert_many(cats_info)"
   ]
  },
  {
   "cell_type": "markdown",
   "metadata": {},
   "source": [
    "View data in MongoDB"
   ]
  },
  {
   "cell_type": "markdown",
   "metadata": {},
   "source": [
    "#### Query dataset (***In python & Mongosh***)\n",
    "\n",
    "Get images larger than 500px in height"
   ]
  },
  {
   "cell_type": "code",
   "execution_count": null,
   "metadata": {},
   "outputs": [],
   "source": [
    "query = {\n",
    "    \"height\": {\"$gt\": 800} ## gt = greater than\n",
    "}\n",
    "\n",
    "list(collection.find(query, {\"_id\": False, \"url\":True}))"
   ]
  },
  {
   "cell_type": "markdown",
   "metadata": {},
   "source": [
    "Get images with widths greater than or equals to 450px and heights less than 600px"
   ]
  },
  {
   "cell_type": "code",
   "execution_count": null,
   "metadata": {},
   "outputs": [],
   "source": [
    "query = {\n",
    "    \"width\": {\"$gte\": 600},\n",
    "    \"height\": {\"$lt\": 600},\n",
    "}\n",
    "\n",
    "list(collection.find(query, {\"_id\": False, \"url\":True}))"
   ]
  },
  {
   "cell_type": "markdown",
   "metadata": {},
   "source": [
    "In mongosh:\n",
    "\n",
    "```\n",
    "use MyDB;\n",
    "```\n",
    "\n",
    "- Get images larger than 500px in height\n",
    "    ```\n",
    "       db.CATS.find({\"height\": {\"$gt\": 500}}).projection({\"url\": 1, \"_id\": 0})\n",
    "    ```\n",
    "- Get images with widths greater than or equals to 450px and heights less than 600px\n",
    "    ```\n",
    "        db.CATS.find({\"width\": {\"$gte\": 450}, \"height\": {\"$lt\": 600}}).projection({\"url\": 1, \"_id\": 0})\n",
    "    ```"
   ]
  },
  {
   "cell_type": "markdown",
   "metadata": {},
   "source": [
    "---\n",
    "### Venue Database\n",
    "\n",
    "#### Create dataset"
   ]
  },
  {
   "cell_type": "code",
   "execution_count": null,
   "metadata": {},
   "outputs": [],
   "source": [
    "## Download data\n",
    "file_name = \"venue_data.json\"\n",
    "download_dataset(file_name, venue_api)\n",
    "\n",
    "## Create colelction\n",
    "collection = database['VENUES']\n",
    "venue_info = load_dataset(file_name)[\"features\"]\n",
    "\n",
    "## Add many data\n",
    "collection.insert_many(venue_info)\n",
    "collection.create_index([(\"geometry\", \"2dsphere\")])"
   ]
  },
  {
   "cell_type": "markdown",
   "metadata": {},
   "source": [
    "View data in MongoDB"
   ]
  },
  {
   "cell_type": "markdown",
   "metadata": {},
   "source": [
    "#### Query dataset (***In python & Mongosh***)\n",
    "\n",
    "Get all venues within 2 km from Purdue"
   ]
  },
  {
   "cell_type": "code",
   "execution_count": null,
   "metadata": {},
   "outputs": [],
   "source": [
    "query = {\n",
    "    \"geometry\": {\"$near\": { \n",
    "        \"$geometry\":\n",
    "            {\"type\": 'Point', \"coordinates\": [-86.9206582, 40.4236401]},\n",
    "        \"$maxDistance\": 2000\n",
    "    }}\n",
    "}\n",
    "\n",
    "list(collection.find(query, {\"properties.NAME\":True, \"properties.ADDRESS\": True, \"properties.CITY\": True}))"
   ]
  },
  {
   "cell_type": "markdown",
   "metadata": {},
   "source": [
    "Get 10 venues that can sits more the 5000 people"
   ]
  },
  {
   "cell_type": "code",
   "execution_count": null,
   "metadata": {},
   "outputs": [],
   "source": [
    "query = {\n",
    "    \"properties.STATE\": \"IN\",\n",
    "    \"properties.POPULATION\": {\"$gt\": 5000}\n",
    "}\n",
    "\n",
    "list(collection.find(query, {\"_id\": False, \"properties.NAME\":True, \"properties.ADDRESS\": True, \"properties.CITY\": True}, limit = 10))"
   ]
  },
  {
   "cell_type": "markdown",
   "metadata": {},
   "source": [
    "In mongosh:\n",
    "\n",
    "- Get all venues within 2 km from Purdue\n",
    "    ```\n",
    "        db.VENUES.find({\"geometry\": {\"$near\": { \"$geometry\":{\"type\": 'Point', \"coordinates\": [-86.9206582, 40.4236401]}, \"$maxDistance\": 2000}}}).projection({\"properties.NAME\": 1, \"properties.ADDRESS\": 1, \"properties.CITY\": 1})\n",
    "    ```\n",
    "- Get all venues that can sits more the 5000 people\n",
    "    ```\n",
    "        db.VENUES.find({\"properties.STATE\": \"IN\", \"properties.POPULATION\": {\"$gt\": 5000}}).projection({\"properties.NAME\": 1, \"properties.ADDRESS\": 1, \"properties.CITY\": 1})\n",
    "    ```"
   ]
  }
 ],
 "metadata": {
  "kernelspec": {
   "display_name": ".venv",
   "language": "python",
   "name": "python3"
  },
  "language_info": {
   "codemirror_mode": {
    "name": "ipython",
    "version": 3
   },
   "file_extension": ".py",
   "mimetype": "text/x-python",
   "name": "python",
   "nbconvert_exporter": "python",
   "pygments_lexer": "ipython3",
   "version": "3.8.3"
  }
 },
 "nbformat": 4,
 "nbformat_minor": 2
}
